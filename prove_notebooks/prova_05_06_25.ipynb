{
 "cells": [
  {
   "cell_type": "code",
   "execution_count": null,
   "id": "c3ca09ff",
   "metadata": {},
   "outputs": [
    {
     "ename": "",
     "evalue": "",
     "output_type": "error",
     "traceback": [
      "\u001b[1;31mRunning cells with 'soundify (Python 3.10.17)' requires the ipykernel package.\n",
      "\u001b[1;31m<a href='command:jupyter.createPythonEnvAndSelectController'>Create a Python Environment</a> with the required packages.\n",
      "\u001b[1;31mOr install 'ipykernel' using the command: 'conda install -n soundify ipykernel --update-deps --force-reinstall'"
     ]
    }
   ],
   "source": [
    "# Import della librerie per caricare le pipe da Huggingface\n",
    "from diffusers import DiffusionPipeline\n",
    "\n",
    "auffusion_pipe = DiffusionPipeline.from_pretrained(\"auffusion/auffusion-full-no-adapter\")\n",
    "stable_pipe = DiffusionPipeline.from_pretrained(\"runwayml/stable-diffusion-v1-5\")\n",
    "vocoder = DiffusionPipeline.from_pretrained(\"auffusion/auffusion-full-no-adapter\", subfolder=\"vocoder\")\n",
    "\n",
    "## Auffusion Unet \n",
    "auffusion_unet = auffusion_pipe.unet\n",
    "print(auffusion_unet)\n",
    "\n",
    "\n",
    "\n"
   ]
  }
 ],
 "metadata": {
  "kernelspec": {
   "display_name": "soundify",
   "language": "python",
   "name": "python3"
  },
  "language_info": {
   "name": "python",
   "version": "3.10.17"
  }
 },
 "nbformat": 4,
 "nbformat_minor": 5
}
